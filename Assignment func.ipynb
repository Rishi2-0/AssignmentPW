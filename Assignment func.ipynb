{
 "cells": [
  {
   "cell_type": "raw",
   "id": "15ef1cd3-ac23-4848-ade6-674b8276af91",
   "metadata": {},
   "source": [
    "Q1) def keyword is used to create function\n"
   ]
  },
  {
   "cell_type": "code",
   "execution_count": 26,
   "id": "27641d9c-beec-4196-b109-68af36cb61f8",
   "metadata": {},
   "outputs": [],
   "source": [
    "def odd():\n",
    "    l=[]\n",
    "    n=25\n",
    "    for i in range(n):\n",
    "        if i%2!=0 :\n",
    "            l.append(i)\n",
    "    return l        \n",
    "                                           "
   ]
  },
  {
   "cell_type": "code",
   "execution_count": 27,
   "id": "5550aa14-1204-4cf6-ac20-558fb34757eb",
   "metadata": {},
   "outputs": [
    {
     "data": {
      "text/plain": [
       "[1, 3, 5, 7, 9, 11, 13, 15, 17, 19, 21, 23]"
      ]
     },
     "execution_count": 27,
     "metadata": {},
     "output_type": "execute_result"
    }
   ],
   "source": [
    "odd()"
   ]
  },
  {
   "cell_type": "raw",
   "id": "62da9647-eff7-4a23-8184-412cb60af584",
   "metadata": {},
   "source": [
    "Q2) *args is used in some function to take any several input of numbers\n",
    "EX :\n",
    "def my(*args):\n",
    "     \n",
    "     return *args"
   ]
  },
  {
   "cell_type": "raw",
   "id": "ce8cf087-1483-4419-8ce7-b747f9e6bee4",
   "metadata": {},
   "source": [
    "Q3) Iterator in python is that thing which helps to iterate over items such as sring is iterable , integer can be turned into iterables by iter variable.\n",
    "next() method is used for itertion in generator function."
   ]
  },
  {
   "cell_type": "code",
   "execution_count": 29,
   "id": "de3f88e2-9270-451a-a26d-55fb6b1c8968",
   "metadata": {},
   "outputs": [],
   "source": [
    "def fun(n):\n",
    "    l=[2,4,6,8,10,12,14,16,18,20]\n",
    "    \n",
    "    for i in range(n):\n",
    "        yield l(i)\n",
    "    \n"
   ]
  },
  {
   "cell_type": "code",
   "execution_count": 30,
   "id": "48009cd3-9eba-42c2-961f-a42520789443",
   "metadata": {},
   "outputs": [
    {
     "data": {
      "text/plain": [
       "<generator object fun at 0x7fef15e5a180>"
      ]
     },
     "execution_count": 30,
     "metadata": {},
     "output_type": "execute_result"
    }
   ],
   "source": [
    "fun(5)"
   ]
  },
  {
   "cell_type": "code",
   "execution_count": 32,
   "id": "108123cb-e3ae-4075-b67b-888323d5f108",
   "metadata": {},
   "outputs": [
    {
     "data": {
      "text/plain": [
       "<generator object fun at 0x7fef15e59ee0>"
      ]
     },
     "execution_count": 32,
     "metadata": {},
     "output_type": "execute_result"
    }
   ],
   "source": [
    "fun(5)"
   ]
  },
  {
   "cell_type": "raw",
   "id": "a05e2eab-496d-4ad7-8b48-6e75c0cf6a2c",
   "metadata": {},
   "source": [
    "Q4) Generator function is that type of function which helps in memory optimization and prints out elements individually to save storage.\n",
    "The yield keyword in Python controls the flow of a generator function."
   ]
  },
  {
   "cell_type": "code",
   "execution_count": null,
   "id": "18a9aef3-fff1-4ca4-86f3-39b6a723cd48",
   "metadata": {},
   "outputs": [],
   "source": [
    "\n",
    "        "
   ]
  },
  {
   "cell_type": "code",
   "execution_count": 2,
   "id": "8c5d8e9a-ba60-45f5-b45b-e0b1c654127c",
   "metadata": {},
   "outputs": [],
   "source": []
  },
  {
   "cell_type": "code",
   "execution_count": 3,
   "id": "21f085d8-17d4-4b1e-acf3-6dc6f4b41300",
   "metadata": {},
   "outputs": [],
   "source": [
    "def fibo():\n",
    "    a,b=0,1\n",
    "    i=0\n",
    "    l=[]\n",
    "    while i <=10 :\n",
    "        l.append(a) \n",
    "        a,b=b,a+b\n",
    "    return l     "
   ]
  },
  {
   "cell_type": "raw",
   "id": "15978e6e-50fc-455f-8e16-d4b3254c2f66",
   "metadata": {},
   "source": []
  },
  {
   "cell_type": "code",
   "execution_count": null,
   "id": "0e3e13b1-ffde-4484-a1d4-261432a78540",
   "metadata": {},
   "outputs": [],
   "source": []
  }
 ],
 "metadata": {
  "kernelspec": {
   "display_name": "Python 3 (ipykernel)",
   "language": "python",
   "name": "python3"
  },
  "language_info": {
   "codemirror_mode": {
    "name": "ipython",
    "version": 3
   },
   "file_extension": ".py",
   "mimetype": "text/x-python",
   "name": "python",
   "nbconvert_exporter": "python",
   "pygments_lexer": "ipython3",
   "version": "3.10.8"
  }
 },
 "nbformat": 4,
 "nbformat_minor": 5
}
